{
  "nbformat": 4,
  "nbformat_minor": 0,
  "metadata": {
    "colab": {
      "name": "CSCE 421 Homework 5.ipynb",
      "provenance": [],
      "collapsed_sections": []
    },
    "kernelspec": {
      "name": "python3",
      "display_name": "Python 3"
    }
  },
  "cells": [
    {
      "cell_type": "markdown",
      "metadata": {
        "id": "kvxmuQMl9rhq"
      },
      "source": [
        "**Problem 2**"
      ]
    },
    {
      "cell_type": "code",
      "metadata": {
        "id": "U8Yn55bK9q_H"
      },
      "source": [
        "# import the CSV file from GitHub:\n",
        "CSV_URL = 'https://raw.githubusercontent.com/oriyonay/RandomPublicThings/master/hw5_question2.csv'\n",
        "df = pd.read_csv(CSV_URL, header=None)"
      ],
      "execution_count": null,
      "outputs": []
    },
    {
      "cell_type": "code",
      "metadata": {
        "id": "D9xRH4Ac_c8r",
        "colab": {
          "base_uri": "https://localhost:8080/"
        },
        "outputId": "a44141dc-0635-4ab3-8aa2-a4513f551b43"
      },
      "source": [
        "# does the data contain any missing values?\n",
        "print('Missing values: %d' % df.isnull().sum().sum())"
      ],
      "execution_count": null,
      "outputs": [
        {
          "output_type": "stream",
          "text": [
            "Missing values: 0\n"
          ],
          "name": "stdout"
        }
      ]
    },
    {
      "cell_type": "markdown",
      "metadata": {
        "id": "vcsNc2uT_pe1"
      },
      "source": [
        "No missing values in the data. Great!"
      ]
    },
    {
      "cell_type": "code",
      "metadata": {
        "id": "mMg7082c_enV"
      },
      "source": [
        "# separate the features and labels:\n",
        "features = df.loc[:, df.columns != 9]\n",
        "outcome = df[9]"
      ],
      "execution_count": null,
      "outputs": []
    },
    {
      "cell_type": "markdown",
      "metadata": {
        "id": "lb3x0VA2AZdb"
      },
      "source": [
        "Since the data is entirely discrete, there is no need to further preprocess it."
      ]
    },
    {
      "cell_type": "code",
      "metadata": {
        "id": "SMmI6NCHAJUi",
        "colab": {
          "base_uri": "https://localhost:8080/"
        },
        "outputId": "db83f89b-acdd-460e-9684-3c74ec473511"
      },
      "source": [
        "# 2a) Compute the number (and percentage) of samples belonging to the benign and malignant classes:\n",
        "print('Number of benign (2) and malignant (4) samples:')\n",
        "print(outcome.value_counts(normalize=False))\n",
        "\n",
        "print('\\nPercentage of benign (2) and malignant (4) samples:')\n",
        "print(outcome.value_counts(normalize=True) * 100)"
      ],
      "execution_count": null,
      "outputs": [
        {
          "output_type": "stream",
          "text": [
            "Number of benign (2) and malignant (4) samples:\n",
            "2    444\n",
            "4    239\n",
            "Name: 9, dtype: int64\n",
            "\n",
            "Percentage of benign (2) and malignant (4) samples:\n",
            "2    65.007321\n",
            "4    34.992679\n",
            "Name: 9, dtype: float64\n"
          ],
          "name": "stdout"
        }
      ]
    },
    {
      "cell_type": "markdown",
      "metadata": {
        "id": "wGqV1KUgBmPs"
      },
      "source": [
        "From the data above, we can observe that the malignant class is underrepresented in the dataset. "
      ]
    },
    {
      "cell_type": "code",
      "metadata": {
        "id": "ARpa7KlbA2ql"
      },
      "source": [
        "# Split the data into train and test sets, ensuring both variables are proportionally represented\n",
        "X_train, X_test, y_train, y_test = train_test_split(features, outcome, test_size=0.33, stratify=outcome)"
      ],
      "execution_count": null,
      "outputs": []
    },
    {
      "cell_type": "markdown",
      "metadata": {
        "id": "6hqKXFbYEw7L"
      },
      "source": [
        "It is important to note that since the training data is *disproportionately represented*, it is best to use a method such as AUROC to plot accuracy rather than a simple accuracy function."
      ]
    },
    {
      "cell_type": "code",
      "metadata": {
        "id": "TVEu_7OsD_zT"
      },
      "source": [
        "# 2b) Create and train two decision trees using the training samples:\n",
        "\n",
        "# defining a function that cross-validates two decision tree classifiers \n",
        "# (using entropy and gini index as splitting criterion):\n",
        "def cross_validate_models(max_depth, num_of_folds=10):\n",
        "  auc_dict = {'dtc_entropy': 0,  'dtc_gini': 0}\n",
        "\n",
        "  skf = StratifiedKFold(n_splits=num_of_folds, shuffle=True)\n",
        "  for train_index, test_index in skf.split(features, outcome):\n",
        "    # Splitting the data:\n",
        "    train_inputs = features.iloc[train_index]\n",
        "    train_outputs = outcome[train_index]\n",
        "    test_inputs = features.iloc[test_index]\n",
        "    test_outputs = outcome[test_index]\n",
        "\n",
        "    # Train the models on the data:\n",
        "    dtc_entropy = DecisionTreeClassifier(criterion = 'entropy', max_depth=max_depth)\n",
        "    dtc_gini = DecisionTreeClassifier(criterion = 'gini', max_depth=max_depth)\n",
        "    dtc_entropy.fit(X_train, y_train)\n",
        "    dtc_gini.fit(X_train, y_train)\n",
        "\n",
        "    # use these models to predict values:\n",
        "    dtc_entropy_pred = dtc_entropy.predict(test_inputs)\n",
        "    dtc_gini_pred = dtc_gini.predict(test_inputs)\n",
        "\n",
        "    # calculate ROC scores for these models:\n",
        "    dtc_entropy_roc = roc_auc_score(test_outputs, dtc_entropy_pred)\n",
        "    dtc_gini_roc = roc_auc_score(test_outputs, dtc_gini_pred)\n",
        "\n",
        "    # add the contribution to the average AUROC score:\n",
        "    auc_dict['dtc_entropy'] += dtc_entropy_roc / num_of_folds\n",
        "    auc_dict['dtc_gini'] += dtc_gini_roc / num_of_folds\n",
        "\n",
        "  # return the auc scores:\n",
        "  return auc_dict"
      ],
      "execution_count": null,
      "outputs": []
    },
    {
      "cell_type": "code",
      "metadata": {
        "id": "Xb4r7CF-GTxQ",
        "colab": {
          "base_uri": "https://localhost:8080/",
          "height": 279
        },
        "outputId": "0fba71d6-7a5d-415e-817c-7a35c4995e77"
      },
      "source": [
        "# plotting the 10-fold cross-validated accuracy on the training and testing data:\n",
        "num_features = len(features.columns)\n",
        "max_depths = list(range(1, num_features))\n",
        "\n",
        "# keep track of the ROC scores for both models:\n",
        "dtc_entropy_rocs = []\n",
        "dtc_gini_rocs = []\n",
        "\n",
        "for depth in max_depths:\n",
        "  # train the model with the given max depth:\n",
        "  auc_dict_ = cross_validate_models(max_depth=depth)\n",
        "\n",
        "  # store the ROC scores:\n",
        "  dtc_entropy_rocs.append(auc_dict_['dtc_entropy'])\n",
        "  dtc_gini_rocs.append(auc_dict_['dtc_gini'])\n",
        "\n",
        "# plot the accuracies as a function of max depth:\n",
        "plt.plot(max_depths, dtc_entropy_rocs, label='Decision Tree (Entropy) ROC')\n",
        "plt.plot(max_depths, dtc_gini_rocs, label='Decision Tree (Gini Index) ROC')\n",
        "plt.xlabel('Maximum tree depth')\n",
        "plt.ylabel('AUROC')\n",
        "plt.legend()\n",
        "plt.show()"
      ],
      "execution_count": null,
      "outputs": [
        {
          "output_type": "display_data",
          "data": {
            "image/png": "[encoded data removed]",
            "text/plain": [
              "<Figure size 432x288 with 1 Axes>"
            ]
          },
          "metadata": {
            "tags": [],
            "needs_background": "light"
          }
        }
      ]
    },
    {
      "cell_type": "markdown",
      "metadata": {
        "id": "OffTHbaGOfwW"
      },
      "source": [
        "By running this multiple times, I can discern no concrete difference between the two decision trees. The peak accuracy seems to be at a maximum tree depth of around 5-6, where neither trees seem to be underfitting nor overfitting to the data."
      ]
    },
    {
      "cell_type": "code",
      "metadata": {
        "id": "tl4l2I1BMbbf"
      },
      "source": [
        "# 2c) Feature importances using Random Forests:\n",
        "num_of_folds = 10\n",
        "\n",
        "# to keep track of the AUROC of the random forest:\n",
        "rf_auc = 0\n",
        "\n",
        "# to keep track of the feature importances:\n",
        "feature_importances = []\n",
        "\n",
        "skf = StratifiedKFold(n_splits=num_of_folds, shuffle=True)\n",
        "for train_index, test_index in skf.split(features, outcome):\n",
        "  # Splitting the data:\n",
        "  train_inputs = features.iloc[train_index]\n",
        "  train_outputs = outcome[train_index]\n",
        "  test_inputs = features.iloc[test_index]\n",
        "  test_outputs = outcome[test_index]\n",
        "\n",
        "  # Train the random forest on the data:\n",
        "  rf = RandomForestClassifier()\n",
        "  rf.fit(X_train, y_train)\n",
        "\n",
        "  # use the model to predict values:\n",
        "  rf_pred = rf.predict(test_inputs)\n",
        "\n",
        "  # store feature importances:\n",
        "  feature_importances.append(rf.feature_importances_)\n",
        "\n",
        "  # calculate ROC score for this model:\n",
        "  rf_roc = roc_auc_score(test_outputs, rf_pred)\n",
        "\n",
        "  # add the contribution to the average AUROC score:\n",
        "  rf_auc += rf_roc / num_of_folds"
      ],
      "execution_count": null,
      "outputs": []
    },
    {
      "cell_type": "code",
      "metadata": {
        "id": "3p8ICnGwl9QK",
        "colab": {
          "base_uri": "https://localhost:8080/"
        },
        "outputId": "68e52acf-e1fb-4ffd-ee96-ddea40eb47a5"
      },
      "source": [
        "# print the AUROC score of the random forest classifier:\n",
        "print('AUROC Score for Random Forest Classifier: %f' % rf_auc)"
      ],
      "execution_count": null,
      "outputs": [
        {
          "output_type": "stream",
          "text": [
            "AUROC Score for Random Forest Classifier: 0.984116\n"
          ],
          "name": "stdout"
        }
      ]
    },
    {
      "cell_type": "markdown",
      "metadata": {
        "id": "7b0wOq7QmLtZ"
      },
      "source": [
        "From this AUROC score, we can see that the random forest classifier tends to perform a bit better than the singular decision trees."
      ]
    },
    {
      "cell_type": "code",
      "metadata": {
        "id": "8KFgoOCvb1Ck"
      },
      "source": [
        "# sort importances from each fold, from most to least important:\n",
        "indices = [arr[::-1] for arr in np.argsort(feature_importances)]\n",
        "\n",
        "# calculate the avreage index location for each (average position in the rank order):\n",
        "avg_indices = [0] * num_features # init array\n",
        "for rank_arr in indices:\n",
        "  for i in range(num_features):\n",
        "    avg_indices[rank_arr[i]] += (i / len(indices))\n",
        "\n",
        "# use these average indices to calculate the average rank order by their average position in the rank order:\n",
        "avg_rank_order = np.argsort(avg_indices)"
      ],
      "execution_count": null,
      "outputs": []
    },
    {
      "cell_type": "code",
      "metadata": {
        "id": "FJca7JVOd4up",
        "colab": {
          "base_uri": "https://localhost:8080/"
        },
        "outputId": "2228044b-fcde-4a2f-ee60-6424999a4a76"
      },
      "source": [
        "print('Average rank order: ', avg_rank_order)"
      ],
      "execution_count": null,
      "outputs": [
        {
          "output_type": "stream",
          "text": [
            "Average rank order:  [1 2 5 6 7 4 0 3 8]\n"
          ],
          "name": "stdout"
        }
      ]
    },
    {
      "cell_type": "code",
      "metadata": {
        "id": "GFQ-UqJxiF_A",
        "colab": {
          "base_uri": "https://localhost:8080/"
        },
        "outputId": "611d70da-b405-4e70-f7a4-5ed9bde7b59a"
      },
      "source": [
        "# for visualization purposes, prepare to plot the average feature importances (using the gini index):\n",
        "avg_feature_importances = []\n",
        "for rank in avg_rank_order:\n",
        "  avg_feature_importance = np.mean([arr[rank] for arr in feature_importances])\n",
        "  avg_feature_importances.append(avg_feature_importance)\n",
        "\n",
        "avg_feature_importances"
      ],
      "execution_count": null,
      "outputs": [
        {
          "output_type": "execute_result",
          "data": {
            "text/plain": [
              "[0.26120922772512184,\n",
              " 0.18176400022980727,\n",
              " 0.18217179073281803,\n",
              " 0.13000634709733688,\n",
              " 0.09105061766912363,\n",
              " 0.060906786455521,\n",
              " 0.049545678041531725,\n",
              " 0.03551511188958182,\n",
              " 0.00783044015915787]"
            ]
          },
          "metadata": {
            "tags": []
          },
          "execution_count": 57
        }
      ]
    },
    {
      "cell_type": "markdown",
      "metadata": {
        "id": "eWsry5Xii40y"
      },
      "source": [
        "As an interesting sidenote: this approach does not guarantee that the average feature importances will necessarily be sorted in decreasing order, since it cares about the *average relative rank of the feature importances* rather than the *ranks of the average feature importances*.\n",
        "\n",
        "That being said, this is not crucial, as the importances will likely remain mostly in order anyway, and will give us a more robust estimation of feature importances."
      ]
    },
    {
      "cell_type": "code",
      "metadata": {
        "id": "5rKoS3RYibsQ",
        "colab": {
          "base_uri": "https://localhost:8080/",
          "height": 295
        },
        "outputId": "4233f8e8-8958-4d4d-ec04-53269718177a"
      },
      "source": [
        "# plot the average feature importances (using the gini index):\n",
        "plt.bar(range(num_features), avg_feature_importances)\n",
        "plt.xticks(range(num_features), avg_rank_order)\n",
        "plt.title('Average Feature Importances (using Gini index)')\n",
        "plt.xlabel('Feature Index')\n",
        "plt.ylabel('Feature Importance (Gini)')\n",
        "plt.show()"
      ],
      "execution_count": null,
      "outputs": [
        {
          "output_type": "display_data",
          "data": {
            "image/png": "[encoded data removed]",
            "text/plain": [
              "<Figure size 432x288 with 1 Axes>"
            ]
          },
          "metadata": {
            "tags": [],
            "needs_background": "light"
          }
        }
      ]
    },
    {
      "cell_type": "markdown",
      "metadata": {
        "id": "ewbFqrOcmhig"
      },
      "source": [
        "In order to determine what should be included in the final list of features, let us first display the cumulative sum of the feature importances, in increasing order (similar to what we would do in determining when to cut off features for PCA)."
      ]
    },
    {
      "cell_type": "code",
      "metadata": {
        "id": "wLsNPJGdkGUO",
        "colab": {
          "base_uri": "https://localhost:8080/"
        },
        "outputId": "a381c1c0-a695-4669-a6b3-37db4ad6cdaa"
      },
      "source": [
        "print('Cumulative sum of feature importances: ')\n",
        "print(np.cumsum(avg_feature_importances))"
      ],
      "execution_count": null,
      "outputs": [
        {
          "output_type": "stream",
          "text": [
            "Cumulative sum of feature importances: \n",
            "[0.26120923 0.44297323 0.62514502 0.75515137 0.84620198 0.90710877\n",
            " 0.95665445 0.99216956 1.        ]\n"
          ],
          "name": "stdout"
        }
      ]
    },
    {
      "cell_type": "markdown",
      "metadata": {
        "id": "wslip1YCm6-K"
      },
      "source": [
        "From this list, it is clear that in order to get a sufficiently high accuracy rate, almost all features need to be considered. I would suggest that the last feature (index 8, corresponding to *normal nucleoli*) is not necessary in the final model. It does not seem to provide much of an added benefit to the model and may very well lead to overfitting/modeling of random noise. The model contains a small enough set of features that it would still be okay to keep this feature, though it is probably not too important."
      ]
    }
  ]
}