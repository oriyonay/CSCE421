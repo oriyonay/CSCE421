{
  "nbformat": 4,
  "nbformat_minor": 0,
  "metadata": {
    "colab": {
      "name": "CSCE 421 Homework 3.ipynb",
      "provenance": [],
      "collapsed_sections": []
    },
    "kernelspec": {
      "name": "python3",
      "display_name": "Python 3"
    }
  },
  "cells": [
    {
      "cell_type": "markdown",
      "metadata": {
        "id": "JurF5GFUilbV"
      },
      "source": [
        "**Problem 1**"
      ]
    },
    {
      "cell_type": "code",
      "metadata": {
        "id": "_aXF8XvOiYwe"
      },
      "source": [
        "# import libraries:\n",
        "from autograd import grad\n",
        "import autograd.numpy as np\n",
        "import matplotlib.pyplot as plt"
      ],
      "execution_count": null,
      "outputs": []
    },
    {
      "cell_type": "code",
      "metadata": {
        "id": "S_nSi8JvkOU6",
        "colab": {
          "base_uri": "https://localhost:8080/",
          "height": 52
        },
        "outputId": "aad26f03-b0ae-4ab9-8c17-ad022e483b33"
      },
      "source": [
        "# read the data (code from exercise 6.1 in Machine Learning Refined, 2nd Edition):\n",
        "csvname = \"https://raw.githubusercontent.com/jermwatt/machine_learning_refined/gh-pages/mlrefined_datasets/superlearn_datasets/2d_classification_data_v1_entropy.csv\"\n",
        "data = np.loadtxt(csvname, delimiter = ',')\n",
        "\n",
        "# get input/output pairs\n",
        "x = data[:-1,:]\n",
        "y = data[-1:,:] \n",
        "\n",
        "print(np.shape(x))\n",
        "print(np.shape(y))"
      ],
      "execution_count": null,
      "outputs": [
        {
          "output_type": "stream",
          "text": [
            "(1, 11)\n",
            "(1, 11)\n"
          ],
          "name": "stdout"
        }
      ]
    },
    {
      "cell_type": "code",
      "metadata": {
        "id": "UmivDWk6-L9i",
        "colab": {
          "base_uri": "https://localhost:8080/",
          "height": 265
        },
        "outputId": "fc28e741-c12d-4d40-dc54-fb9d8ed6fd51"
      },
      "source": [
        "# just for visualization purposes, so I know what I'm doing:\n",
        "x_0 = []\n",
        "x_1 = []\n",
        "\n",
        "for i, j in zip(x.ravel(), y.ravel()):\n",
        "  if j == 0:\n",
        "    x_0.append(i)\n",
        "  else:\n",
        "    x_1.append(i)\n",
        "\n",
        "plt.plot(x_0, [0] * len(x_0), 'bo')\n",
        "plt.plot(x_1, [1] * len(x_1), 'ro')\n",
        "plt.show()"
      ],
      "execution_count": null,
      "outputs": [
        {
          "output_type": "display_data",
          "data": {
            "image/png": "[encoded data removed]",
            "text/plain": [
              "<Figure size 432x288 with 1 Axes>"
            ]
          },
          "metadata": {
            "tags": [],
            "needs_background": "light"
          }
        }
      ]
    },
    {
      "cell_type": "code",
      "metadata": {
        "id": "0imVc5ztkfOw"
      },
      "source": [
        "# define the sigmoid function:\n",
        "def sigmoid(x):\n",
        "  return 1/(1 + np.exp(-x))\n",
        "\n",
        "# define the sigmoidal least-squares function:\n",
        "def sigmoid_least_squares(weights):\n",
        "  # (assuming x, y are valid and of same length)\n",
        "  P = x.shape[1]\n",
        "  \n",
        "  total = 0\n",
        "  for input_value, output_value in zip(x.ravel(), y.ravel()):\n",
        "    cost = sigmoid(weights[0] + (weights[1] * input_value)) - output_value\n",
        "    square_cost = cost ** 2\n",
        "    total += square_cost\n",
        "\n",
        "  total /= P\n",
        "  return total"
      ],
      "execution_count": null,
      "outputs": []
    },
    {
      "cell_type": "code",
      "metadata": {
        "id": "xdQ7LqSop7uy",
        "colab": {
          "base_uri": "https://localhost:8080/",
          "height": 265
        },
        "outputId": "ff69eada-c631-4911-8101-d39fb8e48c53"
      },
      "source": [
        "# again, for visualization purposes, we plot the sigmoidal least-squares cost function (with no bias)\n",
        "a = [i/10 for i in range(-50, 50)]\n",
        "b = [sigmoid_least_squares([0, i]) for i in a]\n",
        "plt.plot(a, b)\n",
        "plt.show()"
      ],
      "execution_count": null,
      "outputs": [
        {
          "output_type": "display_data",
          "data": {
            "image/png": "[encoded data removed]",
            "text/plain": [
              "<Figure size 432x288 with 1 Axes>"
            ]
          },
          "metadata": {
            "tags": [],
            "needs_background": "light"
          }
        }
      ]
    },
    {
      "cell_type": "code",
      "metadata": {
        "id": "XjJmObCxDW2t"
      },
      "source": [
        "# define some useful functions for gradient descent:\n",
        "\n",
        "# partial derivative for bias term:\n",
        "def pd_bias(weights, x, y):\n",
        "    return -2 * np.mean(y - weights[0] - (weights[1] * x))\n",
        "\n",
        "# partial derivative for weight term:\n",
        "def pd_weight(weights, x, y):\n",
        "    return -2 * np.mean(np.multiply(y - weights[0] - (weights[1] * x), x))\n",
        "\n",
        "# calculate the magnitude of the gradient:\n",
        "def gradient_mag(weights):\n",
        "    return np.sqrt(np.sum(np.square(weights[0])) + np.sum(np.square(weights[1])))"
      ],
      "execution_count": null,
      "outputs": []
    },
    {
      "cell_type": "code",
      "metadata": {
        "id": "1qc4-zJcKMXu",
        "colab": {
          "base_uri": "https://localhost:8080/",
          "height": 282
        },
        "outputId": "ffe6cc1f-d4fc-47a9-d19f-52c60ebc6642"
      },
      "source": [
        "# the (batch) gradient descent algorithm:\n",
        "alpha   = 1e-2\n",
        "epsilon = 1e-3\n",
        "weights = [-20.0, 20.0]\n",
        "\n",
        "# stores least-squares values for plotting\n",
        "ls_vals = []\n",
        "\n",
        "# *** IMPORTANT ***\n",
        "# create a function that calculates the gradient of our sigmoidal least-squares function:\n",
        "gradient = grad(sigmoid_least_squares)\n",
        "\n",
        "while True:\n",
        "  # store sigmoidal least-squares value for this iteration:\n",
        "  ls_vals.append(sigmoid_least_squares(weights))\n",
        "\n",
        "  # calculate the gradient and its magnitude:\n",
        "  cur_gradient = gradient(weights)\n",
        "  cur_gradient_mag = gradient_mag(gradient(weights))\n",
        "\n",
        "  # calculate partial derivatives:\n",
        "  cur_pd_bias = cur_gradient[0]\n",
        "  cur_pd_weight = cur_gradient[1]\n",
        "\n",
        "  # update weights accordingly:\n",
        "  weights[0] -= alpha * (cur_pd_bias / cur_gradient_mag)\n",
        "  weights[1] -= alpha * (cur_pd_weight / cur_gradient_mag)\n",
        "\n",
        "  if cur_gradient_mag < epsilon:\n",
        "    break\n",
        "\n",
        "# plot sigmoidal least-square error\n",
        "plt.plot(range(len(ls_vals)), ls_vals)\n",
        "plt.show()\n",
        "print('Optimal weights: ', weights)"
      ],
      "execution_count": null,
      "outputs": [
        {
          "output_type": "display_data",
          "data": {
            "image/png": "[encoded data removed]",
            "text/plain": [
              "<Figure size 432x288 with 1 Axes>"
            ]
          },
          "metadata": {
            "tags": [],
            "needs_background": "light"
          }
        },
        {
          "output_type": "stream",
          "text": [
            "Optimal weights:  [-20.44750965561187, 19.62520119785978]\n"
          ],
          "name": "stdout"
        }
      ]
    },
    {
      "cell_type": "markdown",
      "metadata": {
        "id": "WPK0gectOsBQ"
      },
      "source": [
        "**Sidenote**: It's interesting to me to investigate the difference between regular gradient descent and normalized gradient descent. In this algorithm, simply changing cur_gradient to 1 in the lines\n",
        "\n",
        "*weights[0] -= alpha * (cur_pd_bias / cur_gradient)*\n",
        "\n",
        "*weights[1] -= alpha * (cur_pd_weight / cur_gradient)*\n",
        "\n",
        "converts this back to a normal gradient descent algorithm. Plotting the sigmoidal least-square errors then looks far less linear. \n",
        "\n",
        "**Training using normalized gradient descent takes far fewer iterations!!**"
      ]
    },
    {
      "cell_type": "code",
      "metadata": {
        "id": "nDACikdfMHNh"
      },
      "source": [
        "# define the decision function:\n",
        "def predict_probability(input_point, weights):\n",
        "  return sigmoid(weights[0] + (weights[1] * input_point))\n",
        "\n",
        "def predict(input_point, weights):\n",
        "  # round() will round sigmoid to either 0 or 1\n",
        "  return round(sigmoid(weights[0] + (weights[1] * input_point)))"
      ],
      "execution_count": null,
      "outputs": []
    },
    {
      "cell_type": "code",
      "metadata": {
        "id": "anzSA9xXRAq-",
        "colab": {
          "base_uri": "https://localhost:8080/",
          "height": 265
        },
        "outputId": "a00c53bb-c9d5-4521-e3e5-2d980eb05090"
      },
      "source": [
        "# show the model's fit:\n",
        "x_fit = [i/10 for i in range(-50, 50)]\n",
        "y_fit = [predict_probability(input_point, [weights[0], weights[1]]) for input_point in x_fit]\n",
        "\n",
        "plt.plot(x_0, [0] * len(x_0), 'bo')\n",
        "plt.plot(x_1, [1] * len(x_1), 'ro')\n",
        "plt.plot(x_fit, y_fit)\n",
        "plt.show()"
      ],
      "execution_count": null,
      "outputs": [
        {
          "output_type": "display_data",
          "data": {
            "image/png": "[encoded data removed]",
            "text/plain": [
              "<Figure size 432x288 with 1 Axes>"
            ]
          },
          "metadata": {
            "tags": [],
            "needs_background": "light"
          }
        }
      ]
    },
    {
      "cell_type": "code",
      "metadata": {
        "id": "Ue-SxM8JRFNt",
        "colab": {
          "base_uri": "https://localhost:8080/",
          "height": 34
        },
        "outputId": "5a85cefe-56e7-4ee4-c234-a056838a8c0c"
      },
      "source": [
        "# test the model's accuracy:\n",
        "correct = 0\n",
        "for i in range(x.shape[1]):\n",
        "  if y[0][i] == predict(x[0][i], weights):\n",
        "    correct += 1\n",
        "\n",
        "accuracy = (correct / x.shape[1]) * 100.0\n",
        "print('Model accuracy: %.2f%%' % accuracy)"
      ],
      "execution_count": null,
      "outputs": [
        {
          "output_type": "stream",
          "text": [
            "Model accuracy: 100.00%\n"
          ],
          "name": "stdout"
        }
      ]
    },
    {
      "cell_type": "markdown",
      "metadata": {
        "id": "DKEylj4I0odt"
      },
      "source": [
        "**Problem 2**\n",
        "\n",
        "We begin with the general multi-class perceptron cost function:\n",
        "\n",
        "$g(w_0, ..., w_{C-1}) = \\frac{1}{P}\\sum_{p=1}^P max_{j=0, ..., C-1}(0, x_p^T(w_j - w_{y_p}))$\n",
        "\n",
        "When C = 2, the inner part of the summation above is:\n",
        "\n",
        "$max_{j=0, 1}(x_p^T(w_j - w_{y_p}))$.\n",
        "\n",
        "Expanding this, we get:\n",
        "\n",
        "$max(x_p^T(w_0 - w_1), x_p^T(w_1 - w_0))$\n",
        "\n",
        "= $x_p^T (max(w_0 - w_1, w_1 - w_0))$\n",
        "\n",
        "= $x_p^T \\mid w_0 - w_1 \\mid$\n",
        "\n",
        "Since $y_p \\in \\{-1, +1\\}$, we want the value to be positive if $y_p = 1$ and negative otherwise, the following is equivalent to multiplying by $-y$ (because of the double-negatives). We can therefore write the inner summation as:\n",
        "\n",
        "$max(0, -y_px_p^Tw)$.\n",
        "\n",
        "Plugging into the general multi-class perceptron cost function for C = 2 (for two-class perceptron cost), we get:\n",
        "\n",
        "$g(w) = \\frac{1}{P}\\sum_{p=1}^P max(0, -y_px_p^Tw)$\n",
        "\n",
        "which is the two-class perceptron cost function."
      ]
    },
    {
      "cell_type": "markdown",
      "metadata": {
        "id": "encv785TEFDP"
      },
      "source": [
        "**Problem 3**\n",
        "\n",
        "a) \n",
        "We can replace:\n",
        "\n",
        "$x_{11} = x_{12}$, \n",
        "\n",
        "$x_{21} = -x_{11}$, \n",
        "\n",
        "$x_{22} = -x_{11}$, \n",
        "\n",
        "$y_2 = -y_1$,\n",
        "\n",
        "since those were given in the problem statement.\n",
        "\n",
        "We begin by plugging in the given values to the Ridge regression optimization function (and eliminate the intercept $\\beta_0$ since we are given that it is optimally 0). \n",
        "\n",
        "$(y_1 - 2x_{11}(\\beta_1 + \\beta_2))^2 + (-y_1 - 2x_{11}(\\beta_1 + \\beta_2))^2 + \\lambda \\sqrt{\\beta_1^2 + \\beta_2^2}$\n",
        "\n",
        "b)\n",
        "Expanding and simplifying the above expression, we get:\n",
        "\n",
        "$2y_1^2 + 8x_{11}^2(\\beta_1 + \\beta_2)^2 + \\lambda\\sqrt{\\beta_1^2 + \\beta_2^2}$,\n",
        "\n",
        "which is minimized when $\\beta_1 = \\beta_2 = 0$ and $\\beta_1^2 + \\beta_2^2 = 0$.\n",
        "\n",
        "So $\\beta_1 = -\\beta_2$, which means $\\beta_1^2 + \\beta_2^2 = 2\\beta_1^2 = 0$ so $\\beta_1 = \\beta_2 = 0$ which satisfies $\\beta_1 = \\beta_2$.\n",
        "\n",
        "c) \n",
        "The only difference between the expression in (a) and LASSO is the last term, so after expanding and simplifying we get:\n",
        "$2y_1^2 + 8x_{11}^2(\\beta_1 + \\beta_2)^2 + \\lambda(\\mid \\beta_1 \\mid + \\mid \\beta_2 \\mid)$\n",
        "\n",
        "d) \n",
        "From the above expression, it is clear that $\\beta_1$ and $\\beta_2$ may not necessarily be unique. For example consider any $\\beta_1 = -\\beta_2$ which will provide optimal weights."
      ]
    },
    {
      "cell_type": "markdown",
      "metadata": {
        "id": "sZ5w4M4UEI0i"
      },
      "source": [
        "**Problem 4**"
      ]
    },
    {
      "cell_type": "code",
      "metadata": {
        "id": "XCJBwJeEdGqD"
      },
      "source": [
        "# import useful libraries:\n",
        "import pandas as pd\n",
        "from sklearn.linear_model import Ridge, Lasso\n",
        "from sklearn.metrics import auc, roc_auc_score, roc_curve\n",
        "from sklearn.model_selection import train_test_split"
      ],
      "execution_count": null,
      "outputs": []
    },
    {
      "cell_type": "code",
      "metadata": {
        "id": "Dr1z4KbFVW0O"
      },
      "source": [
        "# get the input data:\n",
        "df = pd.read_csv('https://raw.githubusercontent.com/oriyonay/RandomPublicThings/master/heart_input.csv')"
      ],
      "execution_count": null,
      "outputs": []
    },
    {
      "cell_type": "code",
      "metadata": {
        "id": "ssYB0v7qVaiO"
      },
      "source": [
        "# ---------- Preprocessing ---------- #\n",
        "\n",
        "# feature / label extraction:\n",
        "features = df.loc[:, df.columns != 'heart disease']\n",
        "labels = df[['heart disease']]\n",
        "\n",
        "# encoding the labels:\n",
        "labels = labels.replace('Yes', 1)\n",
        "labels = labels.replace('No', 0)\n",
        "\n",
        "# converting labels to a 1d array:\n",
        "labels = labels.values.ravel()\n",
        "\n",
        "# Splitting the dataframe into continuous and categorical variables:\n",
        "nonnumeric = features.select_dtypes(exclude=['int64', 'float64'])\n",
        "numeric = features.select_dtypes(include=['int64', 'float64'])\n",
        "\n",
        "# Now convert nonnumeric columns to dummy columns with indicator variables:\n",
        "dummies = pd.get_dummies(nonnumeric)\n",
        "\n",
        "# Concatenate numeric inputs with (processed) nonnumeric 'dummy' table:\n",
        "data = pd.concat([numeric, dummies], axis=1)\n",
        "\n",
        "# ---------- End Preprocessing ---------- #"
      ],
      "execution_count": null,
      "outputs": []
    },
    {
      "cell_type": "markdown",
      "metadata": {
        "id": "dyVyp5QCXBYa"
      },
      "source": [
        "Now that we have the data preprocessed, we use bootstrapping to choose the right hyperparameter value for lambda ('alpha' in *sklearn*). \n",
        "\n",
        "We begin by defining a function that computes the AUROC values for models with different lambda values:"
      ]
    },
    {
      "cell_type": "code",
      "metadata": {
        "id": "xPXVIu-5WF9e"
      },
      "source": [
        "# 4a) from the lecture notebook:\n",
        "max_iter = 1e8\n",
        "\n",
        "def lambda_aucs (model, lambda_vals, x_train, y_train, x_test, y_test):\n",
        "  auc = []\n",
        "  \n",
        "  for lambda_ in lambda_vals:\n",
        "    if model== \"ridge\":\n",
        "      estimator = Ridge(max_iter = max_iter, alpha = lambda_)\n",
        "    elif model == \"lasso\":\n",
        "      estimator = Lasso(max_iter = max_iter, alpha = lambda_)\n",
        "      \n",
        "    estimator.fit(x_train, y_train)\n",
        "    preds = estimator.predict(x_test)\n",
        "    \n",
        "    auc.append(roc_auc_score(y_test, preds))\n",
        "\n",
        "  return auc"
      ],
      "execution_count": null,
      "outputs": []
    },
    {
      "cell_type": "markdown",
      "metadata": {
        "id": "EOeeqa32YM9U"
      },
      "source": [
        "We can now perform bootstrapping:"
      ]
    },
    {
      "cell_type": "code",
      "metadata": {
        "id": "DAYBmLP0X1-o"
      },
      "source": [
        "# constant parameters:\n",
        "n_bootstraps = int(10)\n",
        "n_test = int(0.2*len(data))\n",
        "n_train = len(data) - n_test\n",
        "\n",
        "lambda_vals = [1e-3, 1e-2, 1e-1, 1, 1e1, 1e2, 1e3]\n",
        "\n",
        "aucs = {\"ridge\": [], \"lasso\": []}\n",
        "\n",
        "for _ in range(n_bootstraps):\n",
        "  train_test_indicator = np.asarray([True]*n_train + [False]*n_test)\n",
        "  np.random.shuffle(train_test_indicator)\n",
        "\n",
        "  x_train = data[train_test_indicator]\n",
        "  x_test = data[np.logical_not(train_test_indicator)]\n",
        "  y_train = labels[train_test_indicator]\n",
        "  y_test = labels[np.logical_not(train_test_indicator)]\n",
        "\n",
        "  ridge_lambda_auc = lambda_aucs(\"ridge\", lambda_vals, x_train, y_train, x_test, y_test)\n",
        "  lasso_lambda_auc = lambda_aucs(\"lasso\", lambda_vals, x_train, y_train, x_test, y_test)\n",
        "    \n",
        "  aucs[\"ridge\"].append(ridge_lambda_auc)\n",
        "  aucs[\"lasso\"].append(lasso_lambda_auc)"
      ],
      "execution_count": null,
      "outputs": []
    },
    {
      "cell_type": "markdown",
      "metadata": {
        "id": "EGbPP1NMZ-qH"
      },
      "source": [
        "Now we print the mean AUROC values for each lambda:"
      ]
    },
    {
      "cell_type": "code",
      "metadata": {
        "id": "uBUxLa6CZvtQ",
        "colab": {
          "base_uri": "https://localhost:8080/",
          "height": 312
        },
        "outputId": "dc3f88b1-0528-40d7-f34d-34bc7a3bb0cb"
      },
      "source": [
        "ridge_aucs = pd.DataFrame(aucs[\"ridge\"])\n",
        "lasso_aucs = pd.DataFrame(aucs[\"lasso\"])\n",
        "\n",
        "print(\"ridge mean AUCs:\")\n",
        "for lambda_val, ridge_auc in zip(lambda_vals, ridge_aucs.mean()):\n",
        "  print (lambda_val, \"AUC:\", \"%.2f\"%ridge_auc)\n",
        "    \n",
        "    \n",
        "print(\"\\nlasso mean AUCs:\")\n",
        "for lambda_val, lasso_auc in zip(lambda_vals, lasso_aucs.mean()):\n",
        "  print (lambda_val, \"AUC:\", \"%.2f\"%lasso_auc)"
      ],
      "execution_count": null,
      "outputs": [
        {
          "output_type": "stream",
          "text": [
            "ridge mean AUCs:\n",
            "0.001 AUC: 0.90\n",
            "0.01 AUC: 0.90\n",
            "0.1 AUC: 0.90\n",
            "1 AUC: 0.90\n",
            "10.0 AUC: 0.90\n",
            "100.0 AUC: 0.91\n",
            "1000.0 AUC: 0.80\n",
            "\n",
            "lasso mean AUCs:\n",
            "0.001 AUC: 0.90\n",
            "0.01 AUC: 0.90\n",
            "0.1 AUC: 0.78\n",
            "1 AUC: 0.73\n",
            "10.0 AUC: 0.50\n",
            "100.0 AUC: 0.50\n",
            "1000.0 AUC: 0.50\n"
          ],
          "name": "stdout"
        }
      ]
    },
    {
      "cell_type": "code",
      "metadata": {
        "id": "xiEcMpoQaGVL",
        "colab": {
          "base_uri": "https://localhost:8080/",
          "height": 52
        },
        "outputId": "a3f53028-4302-401e-dca4-c7c0de5d9a96"
      },
      "source": [
        "# get the lambda values that got the highest AUROC value:\n",
        "best_lambda_ridge = lambda_vals[np.argmax(ridge_aucs.mean())]\n",
        "best_lambda_lasso = lambda_vals[np.argmax(lasso_aucs.mean())]\n",
        "\n",
        "print('Best lambda for ridge regression: ', best_lambda_ridge)\n",
        "print('Best lambda for lasso regression: ', best_lambda_lasso)"
      ],
      "execution_count": null,
      "outputs": [
        {
          "output_type": "stream",
          "text": [
            "Best lambda for ridge regression:  100.0\n",
            "Best lambda for lasso regression:  0.01\n"
          ],
          "name": "stdout"
        }
      ]
    },
    {
      "cell_type": "code",
      "metadata": {
        "id": "bcnJc0jWcuw2"
      },
      "source": [
        "# split the dataset into training and testing sets:\n",
        "train_inputs, test_inputs, train_outputs, test_outputs = train_test_split(\n",
        "        data, labels, test_size = 0.2)"
      ],
      "execution_count": null,
      "outputs": []
    },
    {
      "cell_type": "code",
      "metadata": {
        "id": "S__KxrbYapdB",
        "colab": {
          "base_uri": "https://localhost:8080/",
          "height": 69
        },
        "outputId": "3deb3851-93cc-4ad4-8571-ebf9cfb0732a"
      },
      "source": [
        "# create ridge and lasso logistic regression models with best lambdas:\n",
        "ridge_classifier = Ridge(max_iter=max_iter, alpha=best_lambda_ridge)\n",
        "lasso_classifier = Lasso(max_iter=max_iter, alpha=best_lambda_lasso)\n",
        "\n",
        "# fit the models on the data:\n",
        "ridge_classifier.fit(train_inputs, train_outputs)\n",
        "lasso_classifier.fit(train_inputs, train_outputs)"
      ],
      "execution_count": null,
      "outputs": [
        {
          "output_type": "execute_result",
          "data": {
            "text/plain": [
              "Lasso(alpha=0.01, copy_X=True, fit_intercept=True, max_iter=100000000.0,\n",
              "      normalize=False, positive=False, precompute=False, random_state=None,\n",
              "      selection='cyclic', tol=0.0001, warm_start=False)"
            ]
          },
          "metadata": {
            "tags": []
          },
          "execution_count": 69
        }
      ]
    },
    {
      "cell_type": "markdown",
      "metadata": {
        "id": "9wznFTTadbm7"
      },
      "source": [
        "4b) Now we can print the coefficients for both models:"
      ]
    },
    {
      "cell_type": "code",
      "metadata": {
        "id": "cnE96AvWcjND",
        "colab": {
          "base_uri": "https://localhost:8080/",
          "height": 278
        },
        "outputId": "7bab4eb9-546b-455f-af39-b3e11c5695a4"
      },
      "source": [
        "print('Coefficients from logistic regression:')\n",
        "print(ridge_classifier.coef_)\n",
        "print()\n",
        "print('Coefficients from linear regression:')\n",
        "print(lasso_classifier.coef_)"
      ],
      "execution_count": null,
      "outputs": [
        {
          "output_type": "stream",
          "text": [
            "Coefficients from logistic regression:\n",
            "[-0.00206932  0.00234793  0.00085828 -0.00402088  0.03816198  0.11030135\n",
            "  0.04793248 -0.04793248  0.07343295 -0.01405851 -0.03443574 -0.0249387\n",
            "  0.00698687 -0.00698687  0.02030629 -0.00013228 -0.02017401 -0.0429795\n",
            "  0.0429795  -0.00312501  0.02663955 -0.02351454 -0.00197783 -0.06670294\n",
            "  0.06868077]\n",
            "\n",
            "Coefficients from linear regression:\n",
            "[-2.71963832e-03  2.36098854e-03  7.38410103e-04 -2.94337580e-03\n",
            "  2.81051997e-02  1.47026773e-01  1.15975754e-01 -5.11201283e-16\n",
            "  1.88295494e-01  0.00000000e+00 -0.00000000e+00 -0.00000000e+00\n",
            "  0.00000000e+00 -0.00000000e+00  0.00000000e+00  0.00000000e+00\n",
            " -3.46909256e-02 -8.26687749e-02  1.83778656e-16  0.00000000e+00\n",
            "  2.61297452e-02 -2.14908088e-02 -0.00000000e+00 -6.68979983e-02\n",
            "  1.31046863e-01]\n"
          ],
          "name": "stdout"
        }
      ]
    },
    {
      "cell_type": "markdown",
      "metadata": {
        "id": "Ih-yRSRndtKL"
      },
      "source": [
        "Interestingly enough, the coefficients are almost identical, with the exception of the zeroed-out values in the LASSO model. This is because ridge regression will never zero-out coefficients while LASSO does. Other than that, their optimization process is the same which explains the similarity in coefficient values."
      ]
    },
    {
      "cell_type": "code",
      "metadata": {
        "id": "n1LvVRQ3dgsx"
      },
      "source": [
        "# Plotting the ROC curve for both models:\n",
        "\n",
        "# recalculate linear predictions (since we rounded it previously):\n",
        "ridge_predictions = ridge_classifier.predict(test_inputs)\n",
        "lasso_predictions = lasso_classifier.predict(test_inputs)\n",
        "\n",
        "# test different thresholds:\n",
        "fpr_list_ridge = []\n",
        "tpr_list_ridge = []\n",
        "fpr_list_lasso = []\n",
        "tpr_list_lasso = []\n",
        "\n",
        "for i in range(0, 101):\n",
        "  threshold = i/100\n",
        "  # predict using this threshold:\n",
        "  temp_predictions_ridge = [1 if j > threshold else 0 for j in ridge_predictions]\n",
        "  temp_predictions_lasso = [1 if j > threshold else 0 for j in lasso_predictions]\n",
        "  \n",
        "  # append fpr list and tpr list:\n",
        "  fpr_temp, tpr_temp, _ = roc_curve(test_outputs, temp_predictions_ridge)\n",
        "  fpr_list_ridge.append(fpr_temp)\n",
        "  tpr_list_ridge.append(tpr_temp)\n",
        "\n",
        "  fpr_temp, tpr_temp, _ = roc_curve(test_outputs, temp_predictions_lasso)\n",
        "  fpr_list_lasso.append(fpr_temp)\n",
        "  tpr_list_lasso.append(tpr_temp)"
      ],
      "execution_count": null,
      "outputs": []
    },
    {
      "cell_type": "code",
      "metadata": {
        "id": "q4RN3QZgjR69"
      },
      "source": [
        "# for some reason, the true-positive and false-positive rate lists are 3-dimensional,\n",
        "# so we fix this:\n",
        "\n",
        "tpr_ridge = [i[1] for i in tpr_list_ridge]\n",
        "fpr_ridge = [i[1] for i in fpr_list_ridge]\n",
        "\n",
        "tpr_lasso = [i[1] for i in tpr_list_lasso]\n",
        "fpr_lasso = [i[1] for i in fpr_list_lasso]"
      ],
      "execution_count": null,
      "outputs": []
    },
    {
      "cell_type": "code",
      "metadata": {
        "id": "muQS7cubjerS",
        "colab": {
          "base_uri": "https://localhost:8080/",
          "height": 265
        },
        "outputId": "4fbe969d-c50b-4236-a3e4-77439dfcafd2"
      },
      "source": [
        "# 4c) plot the ROC curve for ridge regression:\n",
        "plt.plot(fpr_ridge, tpr_ridge, color='red', label='Ridge Regression (AUC = %.2f)' % auc(fpr_ridge, tpr_ridge))\n",
        "plt.legend()\n",
        "plt.show()"
      ],
      "execution_count": null,
      "outputs": [
        {
          "output_type": "display_data",
          "data": {
            "image/png": "[encoded data removed]",
            "text/plain": [
              "<Figure size 432x288 with 1 Axes>"
            ]
          },
          "metadata": {
            "tags": [],
            "needs_background": "light"
          }
        }
      ]
    },
    {
      "cell_type": "code",
      "metadata": {
        "id": "ZAjuP0WQjq-K",
        "colab": {
          "base_uri": "https://localhost:8080/",
          "height": 265
        },
        "outputId": "d7632d00-3074-4056-b733-2445bad42b57"
      },
      "source": [
        "# plot the ROC curve for lasso regression:\n",
        "plt.plot(fpr_lasso, tpr_lasso, color='blue', label='Lasso Regression (AUC = %.2f)' % auc(fpr_lasso, tpr_lasso))\n",
        "plt.legend()\n",
        "plt.show()"
      ],
      "execution_count": null,
      "outputs": [
        {
          "output_type": "display_data",
          "data": {
            "image/png": "[encoded data removed]",
            "text/plain": [
              "<Figure size 432x288 with 1 Axes>"
            ]
          },
          "metadata": {
            "tags": [],
            "needs_background": "light"
          }
        }
      ]
    },
    {
      "cell_type": "markdown",
      "metadata": {
        "id": "VacSFGQXlbQQ"
      },
      "source": [
        "4d) In this case (as compared to the case in Homework 2), the ROC for lasso is lower than that of ridge regression. This is because lasso is probably eliminating some useful features that ridge regression isn't."
      ]
    },
    {
      "cell_type": "markdown",
      "metadata": {
        "id": "ajdsPiM77SVV"
      },
      "source": [
        "**Problem 5**"
      ]
    },
    {
      "cell_type": "code",
      "metadata": {
        "id": "s0cbrD51GFrV"
      },
      "source": [
        "# import useful libraries:\n",
        "import urllib.request\n",
        "from sklearn.metrics import accuracy_score\n",
        "from sklearn.model_selection import GridSearchCV, StratifiedKFold\n",
        "from sklearn.preprocessing import scale\n",
        "from sklearn.svm import SVC"
      ],
      "execution_count": null,
      "outputs": []
    },
    {
      "cell_type": "code",
      "metadata": {
        "id": "QlZtER9LlIX0"
      },
      "source": [
        "# load the dataset files from URL:\n",
        "TRAINING_DATASET_URL = 'https://raw.githubusercontent.com/oriyonay/RandomPublicThings/master/satimage.scale.tr'\n",
        "VALIDATION_DATASET_URL = 'https://raw.githubusercontent.com/oriyonay/RandomPublicThings/master/satimage.scale.val'\n",
        "\n",
        "training_data_file = urllib.request.urlopen(TRAINING_DATASET_URL)\n",
        "validation_data_file = urllib.request.urlopen(VALIDATION_DATASET_URL)\n",
        "\n",
        "# parse the data files:\n",
        "training_data_inputs = []\n",
        "training_data_labels = []\n",
        "validation_data_inputs = []\n",
        "validation_data_labels = []\n",
        "\n",
        "for line in training_data_file.readlines():\n",
        "  parsed_row = [float(i.split(':')[1]) for i in line.decode(\"utf-8\").split()[1:]]\n",
        "  # some data rows are missing 1/2 elements, so we 'drop' them by skipping them altogether:\n",
        "  if len(parsed_row) == 36:\n",
        "    training_data_inputs.append(parsed_row)\n",
        "    training_data_labels.append(int(line.decode(\"utf-8\").split()[0]))\n",
        "\n",
        "for line in validation_data_file.readlines():\n",
        "  parsed_row = [float(i.split(':')[1]) for i in line.decode(\"utf-8\").split()[1:]]\n",
        "  # some data rows are missing 1/2 elements, so we 'drop' them by skipping them altogether:\n",
        "  if len(parsed_row) == 36:\n",
        "    validation_data_inputs.append(parsed_row)\n",
        "    validation_data_labels.append(int(line.decode(\"utf-8\").split()[0]))"
      ],
      "execution_count": null,
      "outputs": []
    },
    {
      "cell_type": "code",
      "metadata": {
        "id": "mo6pTsCqKJxa"
      },
      "source": [
        "# 5a) Normalizing the data using the center-and-scale approach shown in lecture:\n",
        "# NOTE: this is done with as few lines of code as possible - NOT meant to be efficient!\n",
        "def normalize(data):\n",
        "  # calculate mean, standard deviation:\n",
        "  flattened = []\n",
        "  for row in data:\n",
        "    flattened.extend(row)\n",
        "\n",
        "  data_mean = np.mean(flattened)\n",
        "  data_var = np.var(flattened)\n",
        "\n",
        "  # now we normalize the data in-place:\n",
        "  for row in range(len(data)):\n",
        "    for col in range(len(data[row])):\n",
        "      data[row][col] -= data_mean\n",
        "      data[row][col] /= data_var"
      ],
      "execution_count": null,
      "outputs": []
    },
    {
      "cell_type": "code",
      "metadata": {
        "id": "RN3CiaKlZFJL"
      },
      "source": [
        "# normalize data:\n",
        "normalize(training_data_inputs)\n",
        "normalize(validation_data_inputs)"
      ],
      "execution_count": null,
      "outputs": []
    },
    {
      "cell_type": "code",
      "metadata": {
        "id": "l3CxH3dlY2Uq"
      },
      "source": [
        "# 5b) \n",
        "# first, we need to convert our labels into binary outputs:\n",
        "training_data_labels = [0 if i != 6 else 1 for i in training_data_labels]\n",
        "validation_data_labels = [0 if i != 6 else 1 for i in validation_data_labels]"
      ],
      "execution_count": null,
      "outputs": []
    },
    {
      "cell_type": "code",
      "metadata": {
        "id": "vJh3Le7BXk4s"
      },
      "source": [
        "# convert training data into Pandas DataFrames for convenience:\n",
        "training_data_inputs = pd.DataFrame(training_data_inputs)\n",
        "training_data_labels = pd.DataFrame(training_data_labels)\n",
        "validation_data_inputs = pd.DataFrame(validation_data_inputs)\n",
        "validation_data_labels = pd.DataFrame(validation_data_labels)"
      ],
      "execution_count": null,
      "outputs": []
    },
    {
      "cell_type": "code",
      "metadata": {
        "id": "pqL2xY5QUTpA",
        "colab": {
          "base_uri": "https://localhost:8080/",
          "height": 225
        },
        "outputId": "00f933f2-b8ed-4b03-f472-6795d0912a1e"
      },
      "source": [
        "# exhaustively search through degree and C parameters, while performing 10-fold stratified cross-validation.\n",
        "# keep track of scores for each model:\n",
        "num_of_folds = 10\n",
        "params = {'degree': [1, 2, 3, 4], 'C': [1e-1, 1, 1e1, 1e2, 1e3]}\n",
        "\n",
        "my_svc = SVC(kernel='poly')\n",
        "my_svc = GridSearchCV(estimator=my_svc, param_grid=params, \n",
        "                      cv=num_of_folds, return_train_score=True,\n",
        "                      refit=True)\n",
        "my_svc.fit(training_data_inputs, training_data_labels.values.ravel())"
      ],
      "execution_count": null,
      "outputs": [
        {
          "output_type": "execute_result",
          "data": {
            "text/plain": [
              "GridSearchCV(cv=10, error_score=nan,\n",
              "             estimator=SVC(C=1.0, break_ties=False, cache_size=200,\n",
              "                           class_weight=None, coef0=0.0,\n",
              "                           decision_function_shape='ovr', degree=3,\n",
              "                           gamma='scale', kernel='poly', max_iter=-1,\n",
              "                           probability=False, random_state=None, shrinking=True,\n",
              "                           tol=0.001, verbose=False),\n",
              "             iid='deprecated', n_jobs=None,\n",
              "             param_grid={'C': [0.1, 1, 10.0, 100.0, 1000.0],\n",
              "                         'degree': [1, 2, 3, 4]},\n",
              "             pre_dispatch='2*n_jobs', refit=True, return_train_score=True,\n",
              "             scoring=None, verbose=0)"
            ]
          },
          "metadata": {
            "tags": []
          },
          "execution_count": 81
        }
      ]
    },
    {
      "cell_type": "code",
      "metadata": {
        "id": "JYn2FV5tS2De"
      },
      "source": [
        "# re-generate parameter combination list (in order they were tested by the grid search function):\n",
        "cv_params = []\n",
        "for C in params['C']:\n",
        "  for degree in params['degree']:\n",
        "    cv_params.append((C, degree))\n",
        "\n",
        "# extract data from cross-validation results:\n",
        "std_train_scores = my_svc.cv_results_['std_train_score']\n",
        "mean_train_scores = my_svc.cv_results_['mean_train_score']"
      ],
      "execution_count": null,
      "outputs": []
    },
    {
      "cell_type": "code",
      "metadata": {
        "id": "JOS4agRzX8R3"
      },
      "source": [
        "# create data to plot:\n",
        "# (note: this is just a quick and easy way to extract this data. \n",
        "#  efficiency is not key here).\n",
        "C = params['C']\n",
        "train_scores_degree_1 = [mean_train_scores[i] if i % 4 == 0 else None for i in range(len(mean_train_scores))]\n",
        "train_scores_degree_2 = [mean_train_scores[i] if i % 4 == 1 else None for i in range(len(mean_train_scores))]\n",
        "train_scores_degree_3 = [mean_train_scores[i] if i % 4 == 2 else None for i in range(len(mean_train_scores))]\n",
        "train_scores_degree_4 = [mean_train_scores[i] if i % 4 == 3 else None for i in range(len(mean_train_scores))]\n",
        "\n",
        "std_train_scores_degree_1 = [std_train_scores[i] if i % 4 == 0 else None for i in range(len(std_train_scores))]\n",
        "std_train_scores_degree_2 = [std_train_scores[i] if i % 4 == 1 else None for i in range(len(std_train_scores))]\n",
        "std_train_scores_degree_3 = [std_train_scores[i] if i % 4 == 2 else None for i in range(len(std_train_scores))]\n",
        "std_train_scores_degree_4 = [std_train_scores[i] if i % 4 == 3 else None for i in range(len(std_train_scores))]\n",
        "\n",
        "train_scores_degree_1 = list(filter(None, train_scores_degree_1))\n",
        "train_scores_degree_2 = list(filter(None, train_scores_degree_2))\n",
        "train_scores_degree_3 = list(filter(None, train_scores_degree_3))\n",
        "train_scores_degree_4 = list(filter(None, train_scores_degree_4))\n",
        "\n",
        "std_train_scores_degree_1 = list(filter(None, std_train_scores_degree_1))\n",
        "std_train_scores_degree_2 = list(filter(None, std_train_scores_degree_2))\n",
        "std_train_scores_degree_3 = list(filter(None, std_train_scores_degree_3))\n",
        "std_train_scores_degree_4 = list(filter(None, std_train_scores_degree_4))\n",
        "\n",
        "# add one standard deviation to train scores:\n",
        "ts_plus_one_std_1 = [i + j for i, j in zip(train_scores_degree_1, std_train_scores_degree_1)]\n",
        "ts_plus_one_std_2 = [i + j for i, j in zip(train_scores_degree_2, std_train_scores_degree_2)]\n",
        "ts_plus_one_std_3 = [i + j for i, j in zip(train_scores_degree_3, std_train_scores_degree_3)]\n",
        "ts_plus_one_std_4 = [i + j for i, j in zip(train_scores_degree_4, std_train_scores_degree_4)]\n",
        "\n",
        "ts_minus_one_std_1 = [i - j for i, j in zip(train_scores_degree_1, std_train_scores_degree_1)]\n",
        "ts_minus_one_std_2 = [i - j for i, j in zip(train_scores_degree_2, std_train_scores_degree_2)]\n",
        "ts_minus_one_std_3 = [i - j for i, j in zip(train_scores_degree_3, std_train_scores_degree_3)]\n",
        "ts_minus_one_std_4 = [i - j for i, j in zip(train_scores_degree_4, std_train_scores_degree_4)]\n"
      ],
      "execution_count": null,
      "outputs": []
    },
    {
      "cell_type": "code",
      "metadata": {
        "id": "VGiAfn3VkF-E",
        "colab": {
          "base_uri": "https://localhost:8080/",
          "height": 295
        },
        "outputId": "d883ca0c-c9e9-44c9-ed71-0bbf69926d79"
      },
      "source": [
        "# plot data for degree 1:\n",
        "plt.plot(C, train_scores_degree_1, color='blue')\n",
        "plt.plot(C, ts_plus_one_std_1, color='green')\n",
        "plt.plot(C, ts_minus_one_std_1, color='red')\n",
        "plt.title('Training scores for degree = 1')\n",
        "plt.xlabel('C')\n",
        "plt.ylabel('Average cross-validation accuracy')\n",
        "plt.show()"
      ],
      "execution_count": null,
      "outputs": [
        {
          "output_type": "display_data",
          "data": {
            "image/png": "[encoded data removed]",
            "text/plain": [
              "<Figure size 432x288 with 1 Axes>"
            ]
          },
          "metadata": {
            "tags": [],
            "needs_background": "light"
          }
        }
      ]
    },
    {
      "cell_type": "code",
      "metadata": {
        "id": "nkvd4WP8lrMR",
        "colab": {
          "base_uri": "https://localhost:8080/",
          "height": 295
        },
        "outputId": "c5f45498-0741-43b1-d17d-010d9940eaf8"
      },
      "source": [
        "# plot data for degree 2:\n",
        "plt.plot(C, train_scores_degree_2, color='blue')\n",
        "plt.plot(C, ts_plus_one_std_2, color='green')\n",
        "plt.plot(C, ts_minus_one_std_2, color='red')\n",
        "plt.title('Training scores for degree = 2')\n",
        "plt.xlabel('C')\n",
        "plt.ylabel('Average cross-validation accuracy')\n",
        "plt.show()"
      ],
      "execution_count": null,
      "outputs": [
        {
          "output_type": "display_data",
          "data": {
            "image/png": "[encoded data removed]",
            "text/plain": [
              "<Figure size 432x288 with 1 Axes>"
            ]
          },
          "metadata": {
            "tags": [],
            "needs_background": "light"
          }
        }
      ]
    },
    {
      "cell_type": "code",
      "metadata": {
        "id": "kqRlS7F4m5C6",
        "colab": {
          "base_uri": "https://localhost:8080/",
          "height": 295
        },
        "outputId": "f48d5043-314e-4183-a2c0-13045e4c50ba"
      },
      "source": [
        "# plot data for degree 3:\n",
        "plt.plot(C, train_scores_degree_3, color='blue')\n",
        "plt.plot(C, ts_plus_one_std_3, color='green')\n",
        "plt.plot(C, ts_minus_one_std_3, color='red')\n",
        "plt.title('Training scores for degree = 3')\n",
        "plt.xlabel('C')\n",
        "plt.ylabel('Average cross-validation accuracy')\n",
        "plt.show()"
      ],
      "execution_count": null,
      "outputs": [
        {
          "output_type": "display_data",
          "data": {
            "image/png": "[encoded data removed]",
            "text/plain": [
              "<Figure size 432x288 with 1 Axes>"
            ]
          },
          "metadata": {
            "tags": [],
            "needs_background": "light"
          }
        }
      ]
    },
    {
      "cell_type": "code",
      "metadata": {
        "id": "R5aQ4VCsm9Wy",
        "colab": {
          "base_uri": "https://localhost:8080/",
          "height": 295
        },
        "outputId": "20af5804-8375-4428-8e67-b9b4d72532ee"
      },
      "source": [
        "# plot data for degree 4:\n",
        "plt.plot(C, train_scores_degree_4, color='blue')\n",
        "plt.plot(C, ts_plus_one_std_4, color='green')\n",
        "plt.plot(C, ts_minus_one_std_4, color='red')\n",
        "plt.title('Training scores for degree = 4')\n",
        "plt.xlabel('C')\n",
        "plt.ylabel('Average cross-validation accuracy')\n",
        "plt.show()"
      ],
      "execution_count": null,
      "outputs": [
        {
          "output_type": "display_data",
          "data": {
            "image/png": "[encoded data removed]",
            "text/plain": [
              "<Figure size 432x288 with 1 Axes>"
            ]
          },
          "metadata": {
            "tags": [],
            "needs_background": "light"
          }
        }
      ]
    },
    {
      "cell_type": "code",
      "metadata": {
        "id": "6Ibwun9bnBlH",
        "colab": {
          "base_uri": "https://localhost:8080/",
          "height": 34
        },
        "outputId": "c1b99670-2b70-433f-b8db-d8af560b7400"
      },
      "source": [
        "# Output the best degree and C-value found:\n",
        "print(my_svc.best_params_)"
      ],
      "execution_count": null,
      "outputs": [
        {
          "output_type": "stream",
          "text": [
            "{'C': 100.0, 'degree': 2}\n"
          ],
          "name": "stdout"
        }
      ]
    },
    {
      "cell_type": "code",
      "metadata": {
        "id": "AE5PMXoAnNuj"
      },
      "source": [
        "# 5c) \n",
        "# find the best C for every degree:\n",
        "best_C_values = {} # best_C_values[d] = best C value for degree d\n",
        "best_C_values[1] = C[np.argmax(train_scores_degree_1)]\n",
        "best_C_values[2] = C[np.argmax(train_scores_degree_2)]\n",
        "best_C_values[3] = C[np.argmax(train_scores_degree_3)]\n",
        "best_C_values[4] = C[np.argmax(train_scores_degree_4)]"
      ],
      "execution_count": null,
      "outputs": []
    },
    {
      "cell_type": "code",
      "metadata": {
        "id": "Dh2n5gzPo1Wb"
      },
      "source": [
        "# train models with those C values:\n",
        "best_pair_models = []\n",
        "for degree in params['degree']:\n",
        "  my_svc_temp = SVC(C=best_C_values[degree], kernel='poly', degree=degree)\n",
        "  my_svc_temp.fit(training_data_inputs, training_data_labels.values.ravel())\n",
        "  best_pair_models.append(my_svc_temp)"
      ],
      "execution_count": null,
      "outputs": []
    },
    {
      "cell_type": "code",
      "metadata": {
        "id": "bxDOqIUnqISZ",
        "colab": {
          "base_uri": "https://localhost:8080/",
          "height": 295
        },
        "outputId": "e9143c72-9f94-46e7-c7f2-44bb909c5568"
      },
      "source": [
        "# plot the test errors for each model:\n",
        "degrees = params['degree']\n",
        "test_errors = []\n",
        "\n",
        "# predict values on testing set for each model:\n",
        "for i in range(len(degrees)):\n",
        "  # use the model to predict values:\n",
        "  pred = best_pair_models[i].predict(validation_data_inputs)\n",
        "\n",
        "  # get the accuracy score and store it in test_errors:\n",
        "  # (note: 1 - accuracy score = test error)\n",
        "  test_errors.append(1 - accuracy_score(validation_data_labels, pred))\n",
        "\n",
        "# plot the test errors:\n",
        "plt.bar(degrees, test_errors)\n",
        "plt.title('Degree vs. Test Errors')\n",
        "plt.xlabel('Degree')\n",
        "plt.ylabel('Test errors')\n",
        "plt.show()"
      ],
      "execution_count": null,
      "outputs": [
        {
          "output_type": "display_data",
          "data": {
            "image/png": "[encoded data removed]",
            "text/plain": [
              "<Figure size 432x288 with 1 Axes>"
            ]
          },
          "metadata": {
            "tags": [],
            "needs_background": "light"
          }
        }
      ]
    },
    {
      "cell_type": "code",
      "metadata": {
        "id": "hNqgSEnYsEe1",
        "colab": {
          "base_uri": "https://localhost:8080/",
          "height": 295
        },
        "outputId": "8c756560-653d-4474-96ba-224d0940b475"
      },
      "source": [
        "# 5d)\n",
        "# get the average number of support vectors from each model:\n",
        "avg_support_vectors = []\n",
        "for i in range(len(degrees)):\n",
        "  avg_support_vectors.append(np.mean(best_pair_models[i].n_support_))\n",
        "\n",
        "# plot average support vectors vs. degree:\n",
        "plt.bar(degrees, avg_support_vectors)\n",
        "plt.title('Degrees vs. Average Support Vectors')\n",
        "plt.xlabel('Degree')\n",
        "plt.ylabel('Average number of support vectors')\n",
        "plt.show()"
      ],
      "execution_count": null,
      "outputs": [
        {
          "output_type": "display_data",
          "data": {
            "image/png": "[encoded data removed]",
            "text/plain": [
              "<Figure size 432x288 with 1 Axes>"
            ]
          },
          "metadata": {
            "tags": [],
            "needs_background": "light"
          }
        }
      ]
    },
    {
      "cell_type": "code",
      "metadata": {
        "id": "RvuU2nELtRTe",
        "colab": {
          "base_uri": "https://localhost:8080/",
          "height": 54
        },
        "outputId": "2103b27e-fb69-4e45-c1bf-a298b7097829"
      },
      "source": [
        "# 5e) get the number of support vectors from each model:\n",
        "num_support_vectors = []\n",
        "for cur_model in best_pair_models:\n",
        "  num_support_vectors.append(np.mean(cur_model.support_vectors_))\n",
        "\n",
        "print('number of support vectors: ', num_support_vectors)"
      ],
      "execution_count": null,
      "outputs": [
        {
          "output_type": "stream",
          "text": [
            "number of support vectors:  [-0.7263545084278996, -0.4408218666366317, -0.325674128843114, -0.2932469663121076]\n"
          ],
          "name": "stdout"
        }
      ]
    },
    {
      "cell_type": "markdown",
      "metadata": {
        "id": "AqE7_sHy2YFA"
      },
      "source": [
        "So on average, we have anywhere from a $\\frac{1}{3}$ to $\\frac{2}{3}$ support vectors on the margin hyperplanes, with a max of around 5 support vectors on a hyperplane."
      ]
    },
    {
      "cell_type": "markdown",
      "metadata": {
        "id": "aJJ5tgWhwLYj"
      },
      "source": [
        "5f) As the polynomial degree increases, the model becomes more flexible with its boundaries. The number of support vectors decrease and the margin size increases."
      ]
    },
    {
      "cell_type": "markdown",
      "metadata": {
        "id": "BcbjPs438gwo"
      },
      "source": [
        "5g) The $\\gamma$ parameter softens the margin (so the fit is usually less accurate on the training data but is better overall (more general). This means that a higher $\\gamma$ means more support vectors and a higher margin size."
      ]
    }
  ]
}